{
 "cells": [
  {
   "cell_type": "code",
   "execution_count": 9,
   "metadata": {},
   "outputs": [
    {
     "data": {
      "text/plain": [
       "(3, 4)"
      ]
     },
     "execution_count": 9,
     "metadata": {},
     "output_type": "execute_result"
    }
   ],
   "source": [
    "import numpy as np\n",
    "\n",
    "np_arr = np.array([[0, 1, 2, 3], [2, 4, -1, 0], [0, 0, 3, 4]])\n",
    "np_arr.shape"
   ]
  },
  {
   "cell_type": "code",
   "execution_count": 10,
   "metadata": {},
   "outputs": [
    {
     "data": {
      "text/plain": [
       "array([[-0.66666667, -0.66666667,  0.66666667,  0.66666667],\n",
       "       [ 1.33333333,  2.33333333, -2.33333333, -2.33333333],\n",
       "       [-0.66666667, -1.66666667,  1.66666667,  1.66666667]])"
      ]
     },
     "execution_count": 10,
     "metadata": {},
     "output_type": "execute_result"
    }
   ],
   "source": [
    "arr_meaned = np_arr - np.mean(np_arr , axis = 0)\n",
    "arr_meaned"
   ]
  },
  {
   "cell_type": "code",
   "execution_count": 11,
   "metadata": {},
   "outputs": [
    {
     "data": {
      "text/plain": [
       "array([[ 1.33333333,  2.33333333, -2.33333333, -2.33333333],\n",
       "       [ 2.33333333,  4.33333333, -4.33333333, -4.33333333],\n",
       "       [-2.33333333, -4.33333333,  4.33333333,  4.33333333],\n",
       "       [-2.33333333, -4.33333333,  4.33333333,  4.33333333]])"
      ]
     },
     "execution_count": 11,
     "metadata": {},
     "output_type": "execute_result"
    }
   ],
   "source": [
    "cov_mat = np.cov(arr_meaned, rowvar=False)\n",
    "cov_mat"
   ]
  },
  {
   "cell_type": "code",
   "execution_count": 12,
   "metadata": {},
   "outputs": [],
   "source": [
    "u, s, v = np.linalg.svd(cov_mat)"
   ]
  },
  {
   "cell_type": "code",
   "execution_count": 13,
   "metadata": {},
   "outputs": [
    {
     "name": "stdout",
     "output_type": "stream",
     "text": [
      "-0.30 0.95 0.00 -0.00 \n",
      "-0.55 -0.17 0.41 0.71 \n",
      "0.55 0.17 -0.41 0.71 \n",
      "0.55 0.17 0.82 -0.00 \n"
     ]
    }
   ],
   "source": [
    "for vector in u : \n",
    "    for elem in vector : \n",
    "        print(\"{:.2f}\".format(elem), end=' ')\n",
    "    print()"
   ]
  },
  {
   "cell_type": "code",
   "execution_count": 14,
   "metadata": {},
   "outputs": [
    {
     "data": {
      "text/plain": [
       "(4, 4)"
      ]
     },
     "execution_count": 14,
     "metadata": {},
     "output_type": "execute_result"
    }
   ],
   "source": [
    "u.shape"
   ]
  },
  {
   "cell_type": "code",
   "execution_count": 15,
   "metadata": {},
   "outputs": [
    {
     "data": {
      "text/plain": [
       "array([1.42632230e+01, 7.01103813e-02, 1.13311663e-17, 5.56273309e-32])"
      ]
     },
     "execution_count": 15,
     "metadata": {},
     "output_type": "execute_result"
    }
   ],
   "source": [
    "s"
   ]
  },
  {
   "cell_type": "code",
   "execution_count": 18,
   "metadata": {},
   "outputs": [
    {
     "data": {
      "text/plain": [
       "99.51085780475294"
      ]
     },
     "execution_count": 18,
     "metadata": {},
     "output_type": "execute_result"
    }
   ],
   "source": [
    "s[:1].sum() / s.sum() * 100"
   ]
  },
  {
   "cell_type": "code",
   "execution_count": 19,
   "metadata": {},
   "outputs": [
    {
     "data": {
      "text/plain": [
       "array([[-0.29833292,  0.95446187],\n",
       "       [-0.55105882, -0.17224259],\n",
       "       [ 0.55105882,  0.17224259],\n",
       "       [ 0.55105882,  0.17224259]])"
      ]
     },
     "execution_count": 19,
     "metadata": {},
     "output_type": "execute_result"
    }
   ],
   "source": [
    "k = 2\n",
    "u_subset = u[:, :k]\n",
    "u_subset"
   ]
  },
  {
   "cell_type": "code",
   "execution_count": 20,
   "metadata": {},
   "outputs": [
    {
     "data": {
      "text/plain": [
       "array([[ 1.30100625, -0.29182273],\n",
       "       [-4.25518897,  0.06691769],\n",
       "       [ 2.95418271,  0.22490505]])"
      ]
     },
     "execution_count": 20,
     "metadata": {},
     "output_type": "execute_result"
    }
   ],
   "source": [
    "arr_reduced = np.dot(arr_meaned, u_subset)\n",
    "arr_reduced"
   ]
  },
  {
   "cell_type": "code",
   "execution_count": 11,
   "metadata": {},
   "outputs": [
    {
     "data": {
      "text/plain": [
       "array([[ 0,  1,  2,  3],\n",
       "       [ 2,  4, -1,  0],\n",
       "       [ 0,  0,  3,  4]])"
      ]
     },
     "execution_count": 11,
     "metadata": {},
     "output_type": "execute_result"
    }
   ],
   "source": [
    "np_arr"
   ]
  },
  {
   "cell_type": "code",
   "execution_count": 21,
   "metadata": {},
   "outputs": [],
   "source": [
    "def MyPCA(X, num_components):\n",
    "    arr_meaned = X - np.mean(X, axis=0)\n",
    "    cov_mat = np.cov(arr_meaned, rowvar=False)\n",
    "    u, s, v = np.linalg.svd(cov_mat)\n",
    "    u_subset = u[:, :num_components]\n",
    "    arr_reduced = np.dot(arr_meaned, u_subset)\n",
    "    return arr_reduced"
   ]
  },
  {
   "cell_type": "code",
   "execution_count": 22,
   "metadata": {},
   "outputs": [
    {
     "data": {
      "text/plain": [
       "array([[ 1.30100625, -0.29182273],\n",
       "       [-4.25518897,  0.06691769],\n",
       "       [ 2.95418271,  0.22490505]])"
      ]
     },
     "execution_count": 22,
     "metadata": {},
     "output_type": "execute_result"
    }
   ],
   "source": [
    "MyPCA(np_arr, 2)"
   ]
  },
  {
   "cell_type": "code",
   "execution_count": 14,
   "metadata": {},
   "outputs": [
    {
     "data": {
      "text/plain": [
       "array([[-1.30100625,  0.29182273],\n",
       "       [ 4.25518897, -0.06691769],\n",
       "       [-2.95418271, -0.22490505]])"
      ]
     },
     "execution_count": 14,
     "metadata": {},
     "output_type": "execute_result"
    }
   ],
   "source": [
    "from sklearn.decomposition import PCA\n",
    "\n",
    "pca = PCA(n_components = 2)\n",
    "arr_reduced = pca.fit_transform(np_arr)\n",
    "arr_reduced"
   ]
  }
 ],
 "metadata": {
  "kernelspec": {
   "display_name": "Python 3 (ipykernel)",
   "language": "python",
   "name": "python3"
  },
  "language_info": {
   "codemirror_mode": {
    "name": "ipython",
    "version": 3
   },
   "file_extension": ".py",
   "mimetype": "text/x-python",
   "name": "python",
   "nbconvert_exporter": "python",
   "pygments_lexer": "ipython3",
   "version": "3.8.6"
  },
  "vscode": {
   "interpreter": {
    "hash": "ad2bdc8ecc057115af97d19610ffacc2b4e99fae6737bb82f5d7fb13d2f2c186"
   }
  }
 },
 "nbformat": 4,
 "nbformat_minor": 2
}
