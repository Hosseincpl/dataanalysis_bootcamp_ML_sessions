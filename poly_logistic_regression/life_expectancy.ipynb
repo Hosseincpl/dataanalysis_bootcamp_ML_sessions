{
 "cells": [
  {
   "cell_type": "code",
   "execution_count": 6,
   "id": "99450f9e",
   "metadata": {},
   "outputs": [],
   "source": [
    "import numpy as np\n",
    "import pandas as pd \n",
    "import seaborn as sns"
   ]
  },
  {
   "cell_type": "markdown",
   "id": "72faaed8",
   "metadata": {},
   "source": [
    "<h2 align=right style=\"line-height:200%;font-family:vazir;color:#0099cc\">\n",
    "<font face=\"vazir\" color=\"#0099cc\">\n",
    "معرفی مجموعه داده\n",
    "</font>\n",
    "</h2>\n",
    "\n",
    "<p dir=rtl style=\"direction: rtl;text-align: right;line-height:200%;font-family:vazir;font-size:medium\">\n",
    "<font face=\"vazir\" size=3>\n",
    "داده آموزشی مسئله دارای ۲۸۴۸ سطر و ۱۸ ستون است.\n",
    "    <br>\n",
    "    ۱۷ ستون مربوط به متغیرهای مستقل و ستون آخر هم نشانگر متغیر وابسته مسئله است.\n",
    "    <br>\n",
    "    در جدول زیر توضیح هر ستون را مشاهده می‌کنید. هر سطر مربوط به اطلاعات یک کشور است که در یک سال مشخص رکورد شده است.\n",
    "</font>\n",
    "</p>\n",
    "\n",
    "\n",
    "<div dir=rtl style=\"direction: rtl;text-align: right;line-height:200%;font-family:vazir;font-size:medium\">\n",
    "<font face=\"vazir\" size=3>\n",
    "    \n",
    "|ستون|توضیحات|\n",
    "|------|---|\n",
    "|Country|کشور مورد مطالعه|\n",
    "|Year|سال|\n",
    "|Status|وضعیت توسعه‌یافتگی کشور|\n",
    "|Population|جمعیت کشور|\n",
    "|Hepatitis B|درصد افراد نهایتا یک ساله‌ای که در برابر هپاتیت ب ایمن شده‌اند|\n",
    "|Measles|تعداد موارد مبتلا به سرخک گزارش شده در هر ۱۰۰۰ نفر|\n",
    "|Polio|درصد افراد نهایتا یک ساله‌ای که در برابر فلج اطفال ایمن شده‌اند|\n",
    "|Diphtheria|درصد افراد نهایتا یک ساله‌ای که در برابر دیفتری ایمن شده‌اند|\n",
    "|HIV/AIDS|تعداد فوتی‌های ناشی از ایدز افراد نهایتا ۴ ساله‌ای که زنده به دنیا آمده‌اند در هر ۱۰۰۰ نفر|\n",
    "|infant deaths|تعداد فوتی‌های نوزادان در هر ۱۰۰۰ نفر|\n",
    "|under-five deaths|تعداد فوتی‌های افراد نهایتا ۵ ساله در هر ۱۰۰۰ نفرد|\n",
    "|Total expenditure|نسبت هزینه‌های درمانی-بهداشتی دولت به کل هزینه‌های دولت بر حسب درصد|\n",
    "|GDP|تولید ناخالص ملی بر حسب دلار امریکا|\n",
    "|BMI|میانگین شاخص توده بدنی کل جمعیت کشور|\n",
    "|thinness 1-19 years|میزان شیوع لاغری میان افراد نهایتا ۱۹ ساله بر حسب درصد|\n",
    "|Alcohol|میزان لیتر مصرف الکل بین افراد بیشتر از ۱۵ سال|\n",
    "|Schooling|تعداد سالی که افراد تحصیل می‌کنند|\n",
    "|Life expectancy|امید به زندگی یا متوسط طول عمر|\n",
    "    \n",
    "</font>\n",
    "</div>\n"
   ]
  },
  {
   "cell_type": "code",
   "execution_count": 13,
   "id": "3b94b930",
   "metadata": {},
   "outputs": [
    {
     "data": {
      "text/html": [
       "<div>\n",
       "<style scoped>\n",
       "    .dataframe tbody tr th:only-of-type {\n",
       "        vertical-align: middle;\n",
       "    }\n",
       "\n",
       "    .dataframe tbody tr th {\n",
       "        vertical-align: top;\n",
       "    }\n",
       "\n",
       "    .dataframe thead th {\n",
       "        text-align: right;\n",
       "    }\n",
       "</style>\n",
       "<table border=\"1\" class=\"dataframe\">\n",
       "  <thead>\n",
       "    <tr style=\"text-align: right;\">\n",
       "      <th></th>\n",
       "      <th>Country</th>\n",
       "      <th>Year</th>\n",
       "      <th>Status</th>\n",
       "      <th>Population</th>\n",
       "      <th>Hepatitis B</th>\n",
       "      <th>Measles</th>\n",
       "      <th>Polio</th>\n",
       "      <th>Diphtheria</th>\n",
       "      <th>HIV/AIDS</th>\n",
       "      <th>infant deaths</th>\n",
       "      <th>under-five deaths</th>\n",
       "      <th>Total expenditure</th>\n",
       "      <th>GDP</th>\n",
       "      <th>BMI</th>\n",
       "      <th>thinness  1-19 years</th>\n",
       "      <th>Alcohol</th>\n",
       "      <th>Schooling</th>\n",
       "      <th>Life expectancy</th>\n",
       "    </tr>\n",
       "  </thead>\n",
       "  <tbody>\n",
       "    <tr>\n",
       "      <th>0</th>\n",
       "      <td>Afghanistan</td>\n",
       "      <td>2015</td>\n",
       "      <td>Developing</td>\n",
       "      <td>33736494.0</td>\n",
       "      <td>65.0</td>\n",
       "      <td>1154</td>\n",
       "      <td>6.0</td>\n",
       "      <td>65.0</td>\n",
       "      <td>0.1</td>\n",
       "      <td>62</td>\n",
       "      <td>83</td>\n",
       "      <td>8.16</td>\n",
       "      <td>584.259210</td>\n",
       "      <td>19.1</td>\n",
       "      <td>17.2</td>\n",
       "      <td>0.01</td>\n",
       "      <td>10.1</td>\n",
       "      <td>65.0</td>\n",
       "    </tr>\n",
       "    <tr>\n",
       "      <th>1</th>\n",
       "      <td>Afghanistan</td>\n",
       "      <td>2014</td>\n",
       "      <td>Developing</td>\n",
       "      <td>327582.0</td>\n",
       "      <td>62.0</td>\n",
       "      <td>492</td>\n",
       "      <td>58.0</td>\n",
       "      <td>62.0</td>\n",
       "      <td>0.1</td>\n",
       "      <td>64</td>\n",
       "      <td>86</td>\n",
       "      <td>8.18</td>\n",
       "      <td>612.696514</td>\n",
       "      <td>18.6</td>\n",
       "      <td>17.5</td>\n",
       "      <td>0.01</td>\n",
       "      <td>10.0</td>\n",
       "      <td>59.9</td>\n",
       "    </tr>\n",
       "    <tr>\n",
       "      <th>2</th>\n",
       "      <td>Afghanistan</td>\n",
       "      <td>2013</td>\n",
       "      <td>Developing</td>\n",
       "      <td>31731688.0</td>\n",
       "      <td>64.0</td>\n",
       "      <td>430</td>\n",
       "      <td>62.0</td>\n",
       "      <td>64.0</td>\n",
       "      <td>0.1</td>\n",
       "      <td>66</td>\n",
       "      <td>89</td>\n",
       "      <td>8.13</td>\n",
       "      <td>631.744976</td>\n",
       "      <td>18.1</td>\n",
       "      <td>17.7</td>\n",
       "      <td>0.01</td>\n",
       "      <td>9.9</td>\n",
       "      <td>59.9</td>\n",
       "    </tr>\n",
       "    <tr>\n",
       "      <th>3</th>\n",
       "      <td>Afghanistan</td>\n",
       "      <td>2012</td>\n",
       "      <td>Developing</td>\n",
       "      <td>3696958.0</td>\n",
       "      <td>67.0</td>\n",
       "      <td>2787</td>\n",
       "      <td>67.0</td>\n",
       "      <td>67.0</td>\n",
       "      <td>0.1</td>\n",
       "      <td>69</td>\n",
       "      <td>93</td>\n",
       "      <td>8.52</td>\n",
       "      <td>669.959000</td>\n",
       "      <td>17.6</td>\n",
       "      <td>17.9</td>\n",
       "      <td>0.01</td>\n",
       "      <td>9.8</td>\n",
       "      <td>59.5</td>\n",
       "    </tr>\n",
       "    <tr>\n",
       "      <th>4</th>\n",
       "      <td>Afghanistan</td>\n",
       "      <td>2011</td>\n",
       "      <td>Developing</td>\n",
       "      <td>2978599.0</td>\n",
       "      <td>68.0</td>\n",
       "      <td>3013</td>\n",
       "      <td>68.0</td>\n",
       "      <td>68.0</td>\n",
       "      <td>0.1</td>\n",
       "      <td>71</td>\n",
       "      <td>97</td>\n",
       "      <td>7.87</td>\n",
       "      <td>63.537231</td>\n",
       "      <td>17.2</td>\n",
       "      <td>18.2</td>\n",
       "      <td>0.01</td>\n",
       "      <td>9.5</td>\n",
       "      <td>59.2</td>\n",
       "    </tr>\n",
       "    <tr>\n",
       "      <th>...</th>\n",
       "      <td>...</td>\n",
       "      <td>...</td>\n",
       "      <td>...</td>\n",
       "      <td>...</td>\n",
       "      <td>...</td>\n",
       "      <td>...</td>\n",
       "      <td>...</td>\n",
       "      <td>...</td>\n",
       "      <td>...</td>\n",
       "      <td>...</td>\n",
       "      <td>...</td>\n",
       "      <td>...</td>\n",
       "      <td>...</td>\n",
       "      <td>...</td>\n",
       "      <td>...</td>\n",
       "      <td>...</td>\n",
       "      <td>...</td>\n",
       "      <td>...</td>\n",
       "    </tr>\n",
       "    <tr>\n",
       "      <th>2843</th>\n",
       "      <td>Zimbabwe</td>\n",
       "      <td>2004</td>\n",
       "      <td>Developing</td>\n",
       "      <td>12777511.0</td>\n",
       "      <td>68.0</td>\n",
       "      <td>31</td>\n",
       "      <td>67.0</td>\n",
       "      <td>65.0</td>\n",
       "      <td>33.6</td>\n",
       "      <td>27</td>\n",
       "      <td>42</td>\n",
       "      <td>7.13</td>\n",
       "      <td>454.366654</td>\n",
       "      <td>27.1</td>\n",
       "      <td>9.4</td>\n",
       "      <td>4.36</td>\n",
       "      <td>9.2</td>\n",
       "      <td>44.3</td>\n",
       "    </tr>\n",
       "    <tr>\n",
       "      <th>2844</th>\n",
       "      <td>Zimbabwe</td>\n",
       "      <td>2003</td>\n",
       "      <td>Developing</td>\n",
       "      <td>12633897.0</td>\n",
       "      <td>7.0</td>\n",
       "      <td>998</td>\n",
       "      <td>7.0</td>\n",
       "      <td>68.0</td>\n",
       "      <td>36.7</td>\n",
       "      <td>26</td>\n",
       "      <td>41</td>\n",
       "      <td>6.52</td>\n",
       "      <td>453.351155</td>\n",
       "      <td>26.7</td>\n",
       "      <td>9.8</td>\n",
       "      <td>4.06</td>\n",
       "      <td>9.5</td>\n",
       "      <td>44.5</td>\n",
       "    </tr>\n",
       "    <tr>\n",
       "      <th>2845</th>\n",
       "      <td>Zimbabwe</td>\n",
       "      <td>2002</td>\n",
       "      <td>Developing</td>\n",
       "      <td>125525.0</td>\n",
       "      <td>73.0</td>\n",
       "      <td>304</td>\n",
       "      <td>73.0</td>\n",
       "      <td>71.0</td>\n",
       "      <td>39.8</td>\n",
       "      <td>25</td>\n",
       "      <td>40</td>\n",
       "      <td>6.53</td>\n",
       "      <td>57.348340</td>\n",
       "      <td>26.3</td>\n",
       "      <td>1.2</td>\n",
       "      <td>4.43</td>\n",
       "      <td>10.0</td>\n",
       "      <td>44.8</td>\n",
       "    </tr>\n",
       "    <tr>\n",
       "      <th>2846</th>\n",
       "      <td>Zimbabwe</td>\n",
       "      <td>2001</td>\n",
       "      <td>Developing</td>\n",
       "      <td>12366165.0</td>\n",
       "      <td>76.0</td>\n",
       "      <td>529</td>\n",
       "      <td>76.0</td>\n",
       "      <td>75.0</td>\n",
       "      <td>42.1</td>\n",
       "      <td>25</td>\n",
       "      <td>39</td>\n",
       "      <td>6.16</td>\n",
       "      <td>548.587312</td>\n",
       "      <td>25.9</td>\n",
       "      <td>1.6</td>\n",
       "      <td>1.72</td>\n",
       "      <td>9.8</td>\n",
       "      <td>45.3</td>\n",
       "    </tr>\n",
       "    <tr>\n",
       "      <th>2847</th>\n",
       "      <td>Zimbabwe</td>\n",
       "      <td>2000</td>\n",
       "      <td>Developing</td>\n",
       "      <td>12222251.0</td>\n",
       "      <td>79.0</td>\n",
       "      <td>1483</td>\n",
       "      <td>78.0</td>\n",
       "      <td>78.0</td>\n",
       "      <td>43.5</td>\n",
       "      <td>24</td>\n",
       "      <td>39</td>\n",
       "      <td>7.10</td>\n",
       "      <td>547.358878</td>\n",
       "      <td>25.5</td>\n",
       "      <td>11.0</td>\n",
       "      <td>1.68</td>\n",
       "      <td>9.8</td>\n",
       "      <td>46.0</td>\n",
       "    </tr>\n",
       "  </tbody>\n",
       "</table>\n",
       "<p>2848 rows × 18 columns</p>\n",
       "</div>"
      ],
      "text/plain": [
       "          Country  Year      Status  Population  Hepatitis B  Measles  Polio  \\\n",
       "0     Afghanistan  2015  Developing  33736494.0         65.0     1154    6.0   \n",
       "1     Afghanistan  2014  Developing    327582.0         62.0      492   58.0   \n",
       "2     Afghanistan  2013  Developing  31731688.0         64.0      430   62.0   \n",
       "3     Afghanistan  2012  Developing   3696958.0         67.0     2787   67.0   \n",
       "4     Afghanistan  2011  Developing   2978599.0         68.0     3013   68.0   \n",
       "...           ...   ...         ...         ...          ...      ...    ...   \n",
       "2843     Zimbabwe  2004  Developing  12777511.0         68.0       31   67.0   \n",
       "2844     Zimbabwe  2003  Developing  12633897.0          7.0      998    7.0   \n",
       "2845     Zimbabwe  2002  Developing    125525.0         73.0      304   73.0   \n",
       "2846     Zimbabwe  2001  Developing  12366165.0         76.0      529   76.0   \n",
       "2847     Zimbabwe  2000  Developing  12222251.0         79.0     1483   78.0   \n",
       "\n",
       "      Diphtheria  HIV/AIDS  infant deaths  under-five deaths  \\\n",
       "0           65.0       0.1             62                 83   \n",
       "1           62.0       0.1             64                 86   \n",
       "2           64.0       0.1             66                 89   \n",
       "3           67.0       0.1             69                 93   \n",
       "4           68.0       0.1             71                 97   \n",
       "...          ...       ...            ...                ...   \n",
       "2843        65.0      33.6             27                 42   \n",
       "2844        68.0      36.7             26                 41   \n",
       "2845        71.0      39.8             25                 40   \n",
       "2846        75.0      42.1             25                 39   \n",
       "2847        78.0      43.5             24                 39   \n",
       "\n",
       "      Total expenditure         GDP   BMI  thinness  1-19 years  Alcohol  \\\n",
       "0                  8.16  584.259210  19.1                  17.2     0.01   \n",
       "1                  8.18  612.696514  18.6                  17.5     0.01   \n",
       "2                  8.13  631.744976  18.1                  17.7     0.01   \n",
       "3                  8.52  669.959000  17.6                  17.9     0.01   \n",
       "4                  7.87   63.537231  17.2                  18.2     0.01   \n",
       "...                 ...         ...   ...                   ...      ...   \n",
       "2843               7.13  454.366654  27.1                   9.4     4.36   \n",
       "2844               6.52  453.351155  26.7                   9.8     4.06   \n",
       "2845               6.53   57.348340  26.3                   1.2     4.43   \n",
       "2846               6.16  548.587312  25.9                   1.6     1.72   \n",
       "2847               7.10  547.358878  25.5                  11.0     1.68   \n",
       "\n",
       "      Schooling  Life expectancy  \n",
       "0          10.1             65.0  \n",
       "1          10.0             59.9  \n",
       "2           9.9             59.9  \n",
       "3           9.8             59.5  \n",
       "4           9.5             59.2  \n",
       "...         ...              ...  \n",
       "2843        9.2             44.3  \n",
       "2844        9.5             44.5  \n",
       "2845       10.0             44.8  \n",
       "2846        9.8             45.3  \n",
       "2847        9.8             46.0  \n",
       "\n",
       "[2848 rows x 18 columns]"
      ]
     },
     "execution_count": 13,
     "metadata": {},
     "output_type": "execute_result"
    }
   ],
   "source": [
    "df = pd.read_csv('data/life_expectancy_train.csv')\n",
    "df"
   ]
  },
  {
   "cell_type": "code",
   "execution_count": 14,
   "id": "7926049e",
   "metadata": {},
   "outputs": [
    {
     "data": {
      "text/plain": [
       "count    2848.000000\n",
       "mean       69.347402\n",
       "std         9.528332\n",
       "min        36.300000\n",
       "25%        63.500000\n",
       "50%        72.200000\n",
       "75%        75.800000\n",
       "max        89.000000\n",
       "Name: Life expectancy, dtype: float64"
      ]
     },
     "execution_count": 14,
     "metadata": {},
     "output_type": "execute_result"
    }
   ],
   "source": [
    "df['Life expectancy'].describe()"
   ]
  },
  {
   "cell_type": "code",
   "execution_count": 15,
   "id": "28ad0fe2",
   "metadata": {},
   "outputs": [
    {
     "data": {
      "text/plain": [
       "Afghanistan    16\n",
       "Mali           16\n",
       "Niger          16\n",
       "Nepal          16\n",
       "Namibia        16\n",
       "               ..\n",
       "Seychelles      2\n",
       "Jordan          2\n",
       "Hungary         1\n",
       "Peru            1\n",
       "Armenia         1\n",
       "Name: Country, Length: 116, dtype: int64"
      ]
     },
     "execution_count": 15,
     "metadata": {},
     "output_type": "execute_result"
    }
   ],
   "source": [
    "df['under_72'] = df['Life expectancy'] <= 72\n",
    "df[df.under_72].Country.value_counts()"
   ]
  },
  {
   "cell_type": "code",
   "execution_count": 16,
   "id": "e9b6bc2b",
   "metadata": {},
   "outputs": [
    {
     "data": {
      "text/plain": [
       "<AxesSubplot: xlabel='under_72', ylabel='count'>"
      ]
     },
     "execution_count": 16,
     "metadata": {},
     "output_type": "execute_result"
    },
    {
     "data": {
      "image/png": "[encoded data removed]",
      "text/plain": [
       "<Figure size 640x480 with 1 Axes>"
      ]
     },
     "metadata": {},
     "output_type": "display_data"
    }
   ],
   "source": [
    "sns.countplot(x=df.under_72)"
   ]
  },
  {
   "cell_type": "code",
   "execution_count": 17,
   "id": "53630487",
   "metadata": {},
   "outputs": [
    {
     "data": {
      "text/plain": [
       "Country                   0\n",
       "Year                      0\n",
       "Status                    0\n",
       "Population              644\n",
       "Hepatitis B             542\n",
       "Measles                   0\n",
       "Polio                    19\n",
       "Diphtheria               19\n",
       "HIV/AIDS                  0\n",
       "infant deaths             0\n",
       "under-five deaths         0\n",
       "Total expenditure       221\n",
       "GDP                     442\n",
       "BMI                      32\n",
       "thinness  1-19 years     32\n",
       "Alcohol                 188\n",
       "Schooling               160\n",
       "Life expectancy           0\n",
       "under_72                  0\n",
       "dtype: int64"
      ]
     },
     "execution_count": 17,
     "metadata": {},
     "output_type": "execute_result"
    }
   ],
   "source": [
    "df.isna().sum()"
   ]
  },
  {
   "cell_type": "code",
   "execution_count": 18,
   "id": "17c731d2",
   "metadata": {},
   "outputs": [],
   "source": [
    "# do some preprocessing!\n",
    "\n",
    "class Preprocessing () : \n",
    "    def init (self)  : \n",
    "        pass\n",
    "        \n",
    "    def transform(self, dataset) :\n",
    "        cols_with_na = dataset.isna().sum()[dataset.isna().sum()>0].index.tolist()\n",
    "        for col in cols_with_na : \n",
    "            dataset.loc[:,col].fillna(dataset.groupby('Country')[col].transform('mean'),inplace=True)\n",
    "            \n",
    "        cols_with_na = dataset.isna().sum()[dataset.isna().sum()>0].index.tolist()\n",
    "        for col in cols_with_na : \n",
    "            dataset.loc[:,col].fillna(dataset[col].median(),inplace=True)\n",
    "            \n",
    "        dataset.Status.replace({\n",
    "            \"Developing\" : 0,\n",
    "            \"Developed\" : 1,\n",
    "        }, inplace=True)\n",
    "        \n",
    "        return dataset "
   ]
  },
  {
   "cell_type": "code",
   "execution_count": 19,
   "id": "fbb283ea",
   "metadata": {},
   "outputs": [],
   "source": [
    "df = Preprocessing().transform(df)"
   ]
  },
  {
   "cell_type": "code",
   "execution_count": 20,
   "id": "a7a62a38",
   "metadata": {
    "scrolled": true
   },
   "outputs": [
    {
     "data": {
      "text/plain": [
       "Country                 0\n",
       "Year                    0\n",
       "Status                  0\n",
       "Population              0\n",
       "Hepatitis B             0\n",
       "Measles                 0\n",
       "Polio                   0\n",
       "Diphtheria              0\n",
       "HIV/AIDS                0\n",
       "infant deaths           0\n",
       "under-five deaths       0\n",
       "Total expenditure       0\n",
       "GDP                     0\n",
       "BMI                     0\n",
       "thinness  1-19 years    0\n",
       "Alcohol                 0\n",
       "Schooling               0\n",
       "Life expectancy         0\n",
       "under_72                0\n",
       "dtype: int64"
      ]
     },
     "execution_count": 20,
     "metadata": {},
     "output_type": "execute_result"
    }
   ],
   "source": [
    "df.isna().sum()"
   ]
  },
  {
   "cell_type": "code",
   "execution_count": 21,
   "id": "03d20a30",
   "metadata": {},
   "outputs": [],
   "source": [
    "# modeling\n",
    "from sklearn.preprocessing import PolynomialFeatures, StandardScaler\n",
    "from sklearn.linear_model import LogisticRegression\n",
    "from sklearn.model_selection import train_test_split\n",
    "\n",
    "data = df.drop(['Country', 'Life expectancy'], axis=1,)\n",
    "X = data.drop('under_72', axis=1)\n",
    "y = data['under_72']\n",
    "\n",
    "x_train,x_test , y_train,y_test = train_test_split(X, y ,\\\n",
    "                                                   test_size=.2, random_state=313)\n",
    "\n",
    "\n",
    "std_scaler = StandardScaler().fit(x_train)\n",
    "x_train = std_scaler.transform(x_train)"
   ]
  },
  {
   "cell_type": "code",
   "execution_count": 22,
   "id": "93be64a2",
   "metadata": {},
   "outputs": [],
   "source": [
    "poly_transformer = PolynomialFeatures(degree=2)\n",
    "poly_transformer.fit(x_train)\n",
    "poly_features = poly_transformer.transform(x_train)"
   ]
  },
  {
   "cell_type": "code",
   "execution_count": 23,
   "id": "8548b444",
   "metadata": {},
   "outputs": [
    {
     "name": "stderr",
     "output_type": "stream",
     "text": [
      "d:\\projects\\quera\\data analysis bootcamp\\1401-09\\teaching\\ml\\venv\\lib\\site-packages\\sklearn\\linear_model\\_logistic.py:458: ConvergenceWarning: lbfgs failed to converge (status=1):\n",
      "STOP: TOTAL NO. of ITERATIONS REACHED LIMIT.\n",
      "\n",
      "Increase the number of iterations (max_iter) or scale the data as shown in:\n",
      "    https://scikit-learn.org/stable/modules/preprocessing.html\n",
      "Please also refer to the documentation for alternative solver options:\n",
      "    https://scikit-learn.org/stable/modules/linear_model.html#logistic-regression\n",
      "  n_iter_i = _check_optimize_result(\n"
     ]
    },
    {
     "data": {
      "text/html": [
       "<style>#sk-container-id-1 {color: black;background-color: white;}#sk-container-id-1 pre{padding: 0;}#sk-container-id-1 div.sk-toggleable {background-color: white;}#sk-container-id-1 label.sk-toggleable__label {cursor: pointer;display: block;width: 100%;margin-bottom: 0;padding: 0.3em;box-sizing: border-box;text-align: center;}#sk-container-id-1 label.sk-toggleable__label-arrow:before {content: \"▸\";float: left;margin-right: 0.25em;color: #696969;}#sk-container-id-1 label.sk-toggleable__label-arrow:hover:before {color: black;}#sk-container-id-1 div.sk-estimator:hover label.sk-toggleable__label-arrow:before {color: black;}#sk-container-id-1 div.sk-toggleable__content {max-height: 0;max-width: 0;overflow: hidden;text-align: left;background-color: #f0f8ff;}#sk-container-id-1 div.sk-toggleable__content pre {margin: 0.2em;color: black;border-radius: 0.25em;background-color: #f0f8ff;}#sk-container-id-1 input.sk-toggleable__control:checked~div.sk-toggleable__content {max-height: 200px;max-width: 100%;overflow: auto;}#sk-container-id-1 input.sk-toggleable__control:checked~label.sk-toggleable__label-arrow:before {content: \"▾\";}#sk-container-id-1 div.sk-estimator input.sk-toggleable__control:checked~label.sk-toggleable__label {background-color: #d4ebff;}#sk-container-id-1 div.sk-label input.sk-toggleable__control:checked~label.sk-toggleable__label {background-color: #d4ebff;}#sk-container-id-1 input.sk-hidden--visually {border: 0;clip: rect(1px 1px 1px 1px);clip: rect(1px, 1px, 1px, 1px);height: 1px;margin: -1px;overflow: hidden;padding: 0;position: absolute;width: 1px;}#sk-container-id-1 div.sk-estimator {font-family: monospace;background-color: #f0f8ff;border: 1px dotted black;border-radius: 0.25em;box-sizing: border-box;margin-bottom: 0.5em;}#sk-container-id-1 div.sk-estimator:hover {background-color: #d4ebff;}#sk-container-id-1 div.sk-parallel-item::after {content: \"\";width: 100%;border-bottom: 1px solid gray;flex-grow: 1;}#sk-container-id-1 div.sk-label:hover label.sk-toggleable__label {background-color: #d4ebff;}#sk-container-id-1 div.sk-serial::before {content: \"\";position: absolute;border-left: 1px solid gray;box-sizing: border-box;top: 0;bottom: 0;left: 50%;z-index: 0;}#sk-container-id-1 div.sk-serial {display: flex;flex-direction: column;align-items: center;background-color: white;padding-right: 0.2em;padding-left: 0.2em;position: relative;}#sk-container-id-1 div.sk-item {position: relative;z-index: 1;}#sk-container-id-1 div.sk-parallel {display: flex;align-items: stretch;justify-content: center;background-color: white;position: relative;}#sk-container-id-1 div.sk-item::before, #sk-container-id-1 div.sk-parallel-item::before {content: \"\";position: absolute;border-left: 1px solid gray;box-sizing: border-box;top: 0;bottom: 0;left: 50%;z-index: -1;}#sk-container-id-1 div.sk-parallel-item {display: flex;flex-direction: column;z-index: 1;position: relative;background-color: white;}#sk-container-id-1 div.sk-parallel-item:first-child::after {align-self: flex-end;width: 50%;}#sk-container-id-1 div.sk-parallel-item:last-child::after {align-self: flex-start;width: 50%;}#sk-container-id-1 div.sk-parallel-item:only-child::after {width: 0;}#sk-container-id-1 div.sk-dashed-wrapped {border: 1px dashed gray;margin: 0 0.4em 0.5em 0.4em;box-sizing: border-box;padding-bottom: 0.4em;background-color: white;}#sk-container-id-1 div.sk-label label {font-family: monospace;font-weight: bold;display: inline-block;line-height: 1.2em;}#sk-container-id-1 div.sk-label-container {text-align: center;}#sk-container-id-1 div.sk-container {/* jupyter's `normalize.less` sets `[hidden] { display: none; }` but bootstrap.min.css set `[hidden] { display: none !important; }` so we also need the `!important` here to be able to override the default hidden behavior on the sphinx rendered scikit-learn.org. See: https://github.com/scikit-learn/scikit-learn/issues/21755 */display: inline-block !important;position: relative;}#sk-container-id-1 div.sk-text-repr-fallback {display: none;}</style><div id=\"sk-container-id-1\" class=\"sk-top-container\"><div class=\"sk-text-repr-fallback\"><pre>LogisticRegression()</pre><b>In a Jupyter environment, please rerun this cell to show the HTML representation or trust the notebook. <br />On GitHub, the HTML representation is unable to render, please try loading this page with nbviewer.org.</b></div><div class=\"sk-container\" hidden><div class=\"sk-item\"><div class=\"sk-estimator sk-toggleable\"><input class=\"sk-toggleable__control sk-hidden--visually\" id=\"sk-estimator-id-1\" type=\"checkbox\" checked><label for=\"sk-estimator-id-1\" class=\"sk-toggleable__label sk-toggleable__label-arrow\">LogisticRegression</label><div class=\"sk-toggleable__content\"><pre>LogisticRegression()</pre></div></div></div></div></div>"
      ],
      "text/plain": [
       "LogisticRegression()"
      ]
     },
     "execution_count": 23,
     "metadata": {},
     "output_type": "execute_result"
    }
   ],
   "source": [
    "model = LogisticRegression()\n",
    "model.fit(poly_features, y_train)"
   ]
  },
  {
   "cell_type": "code",
   "execution_count": 24,
   "id": "f3f005b7",
   "metadata": {},
   "outputs": [
    {
     "name": "stdout",
     "output_type": "stream",
     "text": [
      "precision score =  0.8955223880597015\n"
     ]
    },
    {
     "data": {
      "image/png": "[encoded data removed]",
      "text/plain": [
       "<Figure size 640x480 with 2 Axes>"
      ]
     },
     "metadata": {},
     "output_type": "display_data"
    }
   ],
   "source": [
    "# evaluate model\n",
    "from sklearn.metrics import confusion_matrix, precision_score\n",
    "\n",
    "y_pred = model.predict(poly_transformer.transform(std_scaler.transform(x_test)))\n",
    "sns.heatmap(confusion_matrix(y_test, y_pred), annot=True);\n",
    "\n",
    "print('precision score = ' ,precision_score(y_test, y_pred))"
   ]
  },
  {
   "cell_type": "markdown",
   "id": "9c64f2ea",
   "metadata": {},
   "source": [
    "# Test Linear features"
   ]
  },
  {
   "cell_type": "code",
   "execution_count": 26,
   "id": "69155a08",
   "metadata": {},
   "outputs": [],
   "source": [
    "# modeling\n",
    "data = df.drop(['Country', 'Life expectancy'], axis=1,)\n",
    "X = data.drop('under_72', axis=1)\n",
    "y = data['under_72']\n",
    "\n",
    "x_train,x_test , y_train,y_test = train_test_split(X, y ,\\\n",
    "                                                   test_size=.2, random_state=313)\n",
    "\n",
    "\n",
    "std_scaler = StandardScaler().fit(x_train)\n",
    "x_train = std_scaler.transform(x_train)"
   ]
  },
  {
   "cell_type": "code",
   "execution_count": 27,
   "id": "f2c0bc98",
   "metadata": {},
   "outputs": [
    {
     "data": {
      "text/html": [
       "<style>#sk-container-id-2 {color: black;background-color: white;}#sk-container-id-2 pre{padding: 0;}#sk-container-id-2 div.sk-toggleable {background-color: white;}#sk-container-id-2 label.sk-toggleable__label {cursor: pointer;display: block;width: 100%;margin-bottom: 0;padding: 0.3em;box-sizing: border-box;text-align: center;}#sk-container-id-2 label.sk-toggleable__label-arrow:before {content: \"▸\";float: left;margin-right: 0.25em;color: #696969;}#sk-container-id-2 label.sk-toggleable__label-arrow:hover:before {color: black;}#sk-container-id-2 div.sk-estimator:hover label.sk-toggleable__label-arrow:before {color: black;}#sk-container-id-2 div.sk-toggleable__content {max-height: 0;max-width: 0;overflow: hidden;text-align: left;background-color: #f0f8ff;}#sk-container-id-2 div.sk-toggleable__content pre {margin: 0.2em;color: black;border-radius: 0.25em;background-color: #f0f8ff;}#sk-container-id-2 input.sk-toggleable__control:checked~div.sk-toggleable__content {max-height: 200px;max-width: 100%;overflow: auto;}#sk-container-id-2 input.sk-toggleable__control:checked~label.sk-toggleable__label-arrow:before {content: \"▾\";}#sk-container-id-2 div.sk-estimator input.sk-toggleable__control:checked~label.sk-toggleable__label {background-color: #d4ebff;}#sk-container-id-2 div.sk-label input.sk-toggleable__control:checked~label.sk-toggleable__label {background-color: #d4ebff;}#sk-container-id-2 input.sk-hidden--visually {border: 0;clip: rect(1px 1px 1px 1px);clip: rect(1px, 1px, 1px, 1px);height: 1px;margin: -1px;overflow: hidden;padding: 0;position: absolute;width: 1px;}#sk-container-id-2 div.sk-estimator {font-family: monospace;background-color: #f0f8ff;border: 1px dotted black;border-radius: 0.25em;box-sizing: border-box;margin-bottom: 0.5em;}#sk-container-id-2 div.sk-estimator:hover {background-color: #d4ebff;}#sk-container-id-2 div.sk-parallel-item::after {content: \"\";width: 100%;border-bottom: 1px solid gray;flex-grow: 1;}#sk-container-id-2 div.sk-label:hover label.sk-toggleable__label {background-color: #d4ebff;}#sk-container-id-2 div.sk-serial::before {content: \"\";position: absolute;border-left: 1px solid gray;box-sizing: border-box;top: 0;bottom: 0;left: 50%;z-index: 0;}#sk-container-id-2 div.sk-serial {display: flex;flex-direction: column;align-items: center;background-color: white;padding-right: 0.2em;padding-left: 0.2em;position: relative;}#sk-container-id-2 div.sk-item {position: relative;z-index: 1;}#sk-container-id-2 div.sk-parallel {display: flex;align-items: stretch;justify-content: center;background-color: white;position: relative;}#sk-container-id-2 div.sk-item::before, #sk-container-id-2 div.sk-parallel-item::before {content: \"\";position: absolute;border-left: 1px solid gray;box-sizing: border-box;top: 0;bottom: 0;left: 50%;z-index: -1;}#sk-container-id-2 div.sk-parallel-item {display: flex;flex-direction: column;z-index: 1;position: relative;background-color: white;}#sk-container-id-2 div.sk-parallel-item:first-child::after {align-self: flex-end;width: 50%;}#sk-container-id-2 div.sk-parallel-item:last-child::after {align-self: flex-start;width: 50%;}#sk-container-id-2 div.sk-parallel-item:only-child::after {width: 0;}#sk-container-id-2 div.sk-dashed-wrapped {border: 1px dashed gray;margin: 0 0.4em 0.5em 0.4em;box-sizing: border-box;padding-bottom: 0.4em;background-color: white;}#sk-container-id-2 div.sk-label label {font-family: monospace;font-weight: bold;display: inline-block;line-height: 1.2em;}#sk-container-id-2 div.sk-label-container {text-align: center;}#sk-container-id-2 div.sk-container {/* jupyter's `normalize.less` sets `[hidden] { display: none; }` but bootstrap.min.css set `[hidden] { display: none !important; }` so we also need the `!important` here to be able to override the default hidden behavior on the sphinx rendered scikit-learn.org. See: https://github.com/scikit-learn/scikit-learn/issues/21755 */display: inline-block !important;position: relative;}#sk-container-id-2 div.sk-text-repr-fallback {display: none;}</style><div id=\"sk-container-id-2\" class=\"sk-top-container\"><div class=\"sk-text-repr-fallback\"><pre>LogisticRegression()</pre><b>In a Jupyter environment, please rerun this cell to show the HTML representation or trust the notebook. <br />On GitHub, the HTML representation is unable to render, please try loading this page with nbviewer.org.</b></div><div class=\"sk-container\" hidden><div class=\"sk-item\"><div class=\"sk-estimator sk-toggleable\"><input class=\"sk-toggleable__control sk-hidden--visually\" id=\"sk-estimator-id-2\" type=\"checkbox\" checked><label for=\"sk-estimator-id-2\" class=\"sk-toggleable__label sk-toggleable__label-arrow\">LogisticRegression</label><div class=\"sk-toggleable__content\"><pre>LogisticRegression()</pre></div></div></div></div></div>"
      ],
      "text/plain": [
       "LogisticRegression()"
      ]
     },
     "execution_count": 27,
     "metadata": {},
     "output_type": "execute_result"
    }
   ],
   "source": [
    "model = LogisticRegression()\n",
    "model.fit(x_train, y_train)"
   ]
  },
  {
   "cell_type": "code",
   "execution_count": 30,
   "id": "9e52f81c",
   "metadata": {},
   "outputs": [
    {
     "name": "stdout",
     "output_type": "stream",
     "text": [
      "precision score =  0.8830188679245283\n"
     ]
    },
    {
     "data": {
      "image/png": "[encoded data removed]",
      "text/plain": [
       "<Figure size 640x480 with 2 Axes>"
      ]
     },
     "metadata": {},
     "output_type": "display_data"
    }
   ],
   "source": [
    "# evaluate model\n",
    "y_pred = model.predict(std_scaler.transform(x_test))\n",
    "sns.heatmap(confusion_matrix(y_test, y_pred,), annot=True);\n",
    "print('precision score = ' ,precision_score(y_test, y_pred))"
   ]
  }
 ],
 "metadata": {
  "kernelspec": {
   "display_name": "Python 3 (ipykernel)",
   "language": "python",
   "name": "python3"
  },
  "language_info": {
   "codemirror_mode": {
    "name": "ipython",
    "version": 3
   },
   "file_extension": ".py",
   "mimetype": "text/x-python",
   "name": "python",
   "nbconvert_exporter": "python",
   "pygments_lexer": "ipython3",
   "version": "3.8.6"
  }
 },
 "nbformat": 4,
 "nbformat_minor": 5
}
