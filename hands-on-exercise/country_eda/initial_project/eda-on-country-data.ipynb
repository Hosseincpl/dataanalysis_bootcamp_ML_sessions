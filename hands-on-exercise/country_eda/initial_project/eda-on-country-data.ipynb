{
 "cells": [
  {
   "cell_type": "markdown",
   "metadata": {},
   "source": [
    "<h1 align=center style=\"line-height:200%;font-family:vazir;color:#0099cc\">\n",
    "<font face=\"vazir\" color=\"#0099cc\">\n",
    "تحلیل اکتشافی داده کشورها\n",
    "</font>\n",
    "</h1>"
   ]
  },
  {
   "cell_type": "markdown",
   "metadata": {},
   "source": [
    "<h2 align=right style=\"line-height:200%;font-family:vazir;color:#0099cc\">\n",
    "<font face=\"vazir\" color=\"#0099cc\">\n",
    "مقدمه و صورت مسئله\n",
    "</font>\n",
    "</h2>\n",
    "\n",
    "<p dir=rtl style=\"direction: rtl;text-align: justify;line-height:200%;font-family:vazir;font-size:medium\">\n",
    "<font face=\"vazir\" size=3>\n",
    "در این تمرین قصد داریم با توجه به ویژگی‌های مختلف کشور‌ها به تحلیل اکتشافی و تحلیل داده بپردازیم. مجموعه‌داده‌ای که در اختیار شما قرار گرفت شامل ویژگی‌های متعددی نظیر نام کشور، میزان واردات و صادرات و بودجه، تورم است..\n",
    "</font>\n",
    "</p>"
   ]
  },
  {
   "cell_type": "markdown",
   "metadata": {},
   "source": [
    "<h2 align=right style=\"line-height:200%;font-family:vazir;color:#0099cc\">\n",
    "<font face=\"vazir\" color=\"#0099cc\">\n",
    "وارد کردن کتابخانه‌های مورد نیاز\n",
    "</font>\n",
    "</h2>\n",
    "\n",
    "<p dir=rtl style=\"direction: rtl;text-align: right;line-height:200%;font-family:vazir;font-size:medium\">\n",
    "<font face=\"vazir\" size=3>\n",
    "    ابتدا کتابخانه‌های مورد نیازتان را وارد کنید.\n",
    "</font>\n",
    "</p>"
   ]
  },
  {
   "cell_type": "code",
   "execution_count": null,
   "metadata": {},
   "outputs": [],
   "source": [
    "import pandas as pd"
   ]
  },
  {
   "cell_type": "markdown",
   "metadata": {},
   "source": [
    "<h2 align=right style=\"line-height:200%;font-family:vazir;color:#0099cc\">\n",
    "<font face=\"vazir\" color=\"#0099cc\">\n",
    "معرفی مجموعه داده\n",
    "</font>\n",
    "</h2>\n",
    "\n",
    "<center>\n",
    "<div dir=rtl style=\"direction: rtl;line-height:200%;font-family:vazir;font-size:medium\">\n",
    "<font face=\"vazir\" size=3>\n",
    "    \n",
    "|ستون|توضیحات|\n",
    "|:------:|:---:|\n",
    "|country|نام کشور|\n",
    "|child_mort|تعداد کودکان زیر ۵ سال فوت شده، در هر ۱۰۰۰ نوزاد زنده متولد شده|\n",
    "|exports|درصدی از شاخص تولید ناخالص ملی را نشان می‌دهد که به ازای هر نفر، صادرات انجام شده است|\n",
    "|health|درصدی از شاخص تولید ناخالص ملی را نشان می‌دهد که به ازای هر نفر، به بهداشت و درمان اختصاص یافته است|\n",
    "|imports|درصدی از شاخص تولید ناخالص ملی را نشان می‌دهد که به ازای هر نفر، واردات انجام شده است|\n",
    "|income|درامد خالص هر نفر|\n",
    "|inflation|میزان رشد سالانه شاخص تولید ناخالص ملی یا تورم|\n",
    "|life_expec|امید به زندگی|\n",
    "|total_fer|تعداد فرزندانی که با فرض ثابت ماندن نرخ باروری، هر زن می‌تواند به دنیا بیاورد|\n",
    "|gdpp|تولید ناخالص ملی به ازای هر شخص. حاصل تقسیم تولید ناخلص ملی کل، بر جمعیت|\n",
    "    \n",
    "</font>\n",
    "</div>\n",
    "</center>"
   ]
  },
  {
   "cell_type": "markdown",
   "metadata": {},
   "source": [
    "<h2 align=right style=\"line-height:200%;font-family:vazir;color:#0099cc\">\n",
    "<font face=\"vazir\" color=\"#0099cc\">\n",
    "خواندن مجموعه داده\n",
    "</font>\n",
    "</h2>\n",
    "\n",
    "<p dir=rtl style=\"direction: rtl; text-align: justify; line-height:200%; font-family:vazir; font-size:medium\">\n",
    "<font face=\"vazir\" size=3>\n",
    "     در ابتدا نیاز است مجموعه‌داده را از فایل <code>Country-data.csv</code> بخوانید.\n",
    "    <br>\n",
    "    در فایل <code>data-dictionary.csv</code> توضیحات هر ستون آماده است.\n",
    "</font>\n",
    "</p>"
   ]
  },
  {
   "cell_type": "code",
   "execution_count": null,
   "metadata": {
    "execution": {
     "iopub.execute_input": "2023-02-09T18:46:35.243163Z",
     "iopub.status.busy": "2023-02-09T18:46:35.242249Z",
     "iopub.status.idle": "2023-02-09T18:46:35.261113Z",
     "shell.execute_reply": "2023-02-09T18:46:35.259414Z",
     "shell.execute_reply.started": "2023-02-09T18:46:35.243104Z"
    }
   },
   "outputs": [],
   "source": [
    "pd.read_csv('data/data-dictionary.csv')"
   ]
  },
  {
   "cell_type": "code",
   "execution_count": null,
   "metadata": {
    "execution": {
     "iopub.execute_input": "2023-02-09T18:46:35.273669Z",
     "iopub.status.busy": "2023-02-09T18:46:35.273244Z",
     "iopub.status.idle": "2023-02-09T18:46:35.298113Z",
     "shell.execute_reply": "2023-02-09T18:46:35.296797Z",
     "shell.execute_reply.started": "2023-02-09T18:46:35.273622Z"
    }
   },
   "outputs": [],
   "source": [
    "df = pd.read_csv('data/Country-data.csv')\n",
    "df.head()"
   ]
  },
  {
   "cell_type": "code",
   "execution_count": null,
   "metadata": {},
   "outputs": [],
   "source": [
    "#TODO: some exploretory data analysis"
   ]
  }
 ],
 "metadata": {
  "kernelspec": {
   "display_name": "Python 3 (ipykernel)",
   "language": "python",
   "name": "python3"
  },
  "language_info": {
   "codemirror_mode": {
    "name": "ipython",
    "version": 3
   },
   "file_extension": ".py",
   "mimetype": "text/x-python",
   "name": "python",
   "nbconvert_exporter": "python",
   "pygments_lexer": "ipython3",
   "version": "3.8.6"
  }
 },
 "nbformat": 4,
 "nbformat_minor": 4
}
