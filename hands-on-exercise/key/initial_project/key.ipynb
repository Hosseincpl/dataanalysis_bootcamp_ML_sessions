{
 "cells": [
  {
   "cell_type": "markdown",
   "id": "d333515a",
   "metadata": {},
   "source": [
    "<h1 align=center style=\"line-height:200%;font-family:vazir;color:#0099cc\">\n",
    "<font face=\"vazir\" color=\"#0099cc\">\n",
    "کِی\n",
    "</font>\n",
    "</h1>"
   ]
  },
  {
   "cell_type": "markdown",
   "id": "6ed20bff",
   "metadata": {},
   "source": [
    "<h2 align=right style=\"line-height:200%;font-family:vazir;color:#0099cc\">\n",
    "<font face=\"vazir\" color=\"#0099cc\">\n",
    "مقدمه و صورت مسئله\n",
    "</font>\n",
    "</h2>\n",
    "\n",
    "<p dir=rtl style=\"direction: rtl; text-align: justify; line-height:200%; font-family:vazir; font-size:medium\">\n",
    "<font face=\"vazir\" size=3>\n",
    "    مسافران به دلایل مختلفی بلیط رزرو میکنند و ممکن است به دلایل دیگر آن ها را لغو کنند. شرکتی مانند مستربلیط که بلیط‌های اتوبوس، هواپیما و ... ارائه می‌کند با تعداد آژانس مسافربری مانند رویال سفر و هما قرارداد بسته و به ازای هر بلیطی که بفروشد، مبلغی را تحت عنوان کمسیون، سود میکند!\n",
    "    <br>\n",
    "    اما در مقابل، هنگامی که مسافران بلیط خود را کنسل می‌کنند، مستربلیط باید مبلغی را تحت عنوان جریمه به آژانس‌های مسافربری بپردازد. از آن‌جایی که سیاست مستربلیط بر این است که بخشی از جریمه را از خود مسافر بستاند، بنابراین از شما می‌خواهد پیش‌بینی کنید که کِی، یک مسافر بلیط خود را لغو میکند.\n",
    "    <br>\n",
    "    قیمت‌گذاری مستربلیط برای جریمه مسافران به این شکل است :\n",
    "    <br>\n",
    "    بلیط تا 1 ساعت بعد از صدور (چنانچه بیشتر از 2 ساعت به حرکت مانده باشد) بدون جریمه، تا 1 ساعت قبل از حرکت با 10% جریمه و پس از آن با 50% جریمه به صورت اینترنتی قابل کنسل می باشد.\n",
    "    \n",
    "</font>\n",
    "</p>"
   ]
  },
  {
   "cell_type": "markdown",
   "id": "c5af1784",
   "metadata": {},
   "source": [
    "<h2 align=right style=\"line-height:200%;font-family:vazir;color:#0099cc\">\n",
    "<font face=\"vazir\" color=\"#0099cc\">\n",
    "وارد کردن کتابخانه‌های مورد نیاز\n",
    "</font>\n",
    "</h2>\n",
    "\n",
    "<p dir=rtl style=\"direction: rtl; text-align: justify; line-height:200%; font-family:vazir; font-size:medium\">\n",
    "<font face=\"vazir\" size=3>\n",
    "    ابتدا کتابخانه‌های مورد نیازتان را وارد کنید.\n",
    "</font>\n",
    "</p>"
   ]
  },
  {
   "cell_type": "code",
   "execution_count": null,
   "id": "99450f9e",
   "metadata": {},
   "outputs": [],
   "source": [
    "import pandas as pd\n",
    "import numpy as np "
   ]
  },
  {
   "cell_type": "markdown",
   "id": "72faaed8",
   "metadata": {},
   "source": [
    "<h2 align=right style=\"line-height:200%;font-family:vazir;color:#0099cc\">\n",
    "<font face=\"vazir\" color=\"#0099cc\">\n",
    "معرفی مجموعه داده\n",
    "</font>\n",
    "</h2>\n",
    "\n",
    "<p dir=rtl style=\"direction: rtl; text-align: justify; line-height:200%; font-family:vazir; font-size:medium\">\n",
    "<font face=\"vazir\" size=3>\n",
    "    مجموعه داده آموزشی که در فایل <code>train_data.csv</code> قرار دارد، شامل ۱۳۵۰۰ سطر است که در جدول زیر، توضیحات هر ستون آمده است.\n",
    "</font>\n",
    "</p>\n",
    "\n",
    "<center>\n",
    "<div dir=rtl style=\"direction: rtl;line-height:200%;font-family:vazir;font-size:medium\">\n",
    "<font face=\"vazir\" size=3>\n",
    "    \n",
    "|ستون|توضیحات|\n",
    "|:------:|:---:|\n",
    "|Created|زمان ثبت بلیط|\n",
    "|DepartureTime|زمان حرکت|\n",
    "|BillID|شناسه خرید|\n",
    "|TicketID|شناسه بلیط|\n",
    "|ReserveStatus|وضعیت رزرواسیون مشتری که به دلایلی از سمت مستربلیط، معنی اعداد این ستون روشن نشده است!|\n",
    "|UserID|شناسه کاربری|\n",
    "|Male|آیا بلیط متعلق به زن است یا مرد|\n",
    "|Price|قیمت بلیط بدون تخفیف|\n",
    "|CouponDiscount|تخفیفی که شخص روی بلیط اعمال کرده است|\n",
    "|From|مبدا سفر|\n",
    "|To|مقصد سفر|\n",
    "|Domestic|آیا سفر، داخلی است یا خارجی|\n",
    "|VehicleType|جزئیات وسیله نقلیه را مشخص می‌کند|\n",
    "|VehicleClass|آیا وسیله نقلیه، فرست‌کلس است یا نه|\n",
    "|TripReason|دلیل سفر (کاری و غیر کاری)|\n",
    "|Vehicle|نوع وسیله نقلیه|\n",
    "|HashPassportNumber_p|هش‌شده شماره پاسپورت|\n",
    "|HashEmail|هش‌شده ایمیل|\n",
    "|BuyerMobile|هش‌شده شماره موبایل|\n",
    "|NationalCode|هش‌شده شماره‌ملی|\n",
    "|target|درصدی که مسافر باید جریمه بپردازد (ستون هدف)|\n",
    "</font>\n",
    "</div>\n",
    "</center>\n",
    "\n",
    "<br>\n",
    "<br>\n",
    "\n",
    "\n",
    "<p dir=rtl style=\"direction: rtl; text-align: justify; line-height:200%; font-family:vazir; font-size:medium\">\n",
    "<font face=\"vazir\" size=3>\n",
    "    در کنار مجموعه داده آموزش، مجموعه دیگری از اطلاعات کاربران مستربلیط به ما داده شده است که توضیحات آن را در جدول زیر مشاهده می‌کنیم.\n",
    "</font>\n",
    "</p>\n",
    "\n",
    "\n",
    "<center>\n",
    "<div dir=rtl style=\"direction: rtl;line-height:200%;font-family:vazir;font-size:medium\">\n",
    "<font face=\"vazir\" size=3>\n",
    "    \n",
    "|ستون|توضیحات|\n",
    "|:------:|:---:|\n",
    "|BuyerMobile|هش‌شده شماره موبایل|\n",
    "|PreferedServiceMap|نام نوع سرویس یا خدمت ارجح‌ داده‌شده توسط کاربر|\n",
    "|BuyingInterval|میانگین فاصله بین خریدهای کاربر بر اساس روز (درصورتی که یک خرید بیشتر نباشد عدد 0)|\n",
    "|FrequencyStage|تعداد خریدهای کاربر|\n",
    "|From|پرتکرارترین مبدا ثبت‌شده در خریدهای کاربر|\n",
    "\n",
    "</font>\n",
    "</div>\n",
    "</center>\n",
    "\n",
    "\n",
    "\n",
    "<p dir=rtl style=\"direction: rtl; text-align: justify; line-height:200%; font-family:vazir; font-size:medium\">\n",
    "<font face=\"vazir\" size=3>\n",
    "    در استفاده از داده‌ها، به این نکات توجه داشته باشید:\n",
    "    <ul dir=rtl style=\"direction: rtl; text-align: justify;\">\n",
    "        <li>مسافران با استفاده هش شماره موبایل‌شان از یکدیگر تفکیک می شوند. بنابراین از ستون <code>BuyerMobile</code> میتوانید برای اتصال دو مجموعه داده استفاده کنید.</li>     \n",
    "        <li>در هر خرید، مسافر می‌تواند بیشتر از ۱ بلیط خریداری کند. بنابراین با یک <code>BillID</code> ممکن است بیش از یک <code>TicketID</code> دیده شود!</li>\n",
    "    </ul>\n",
    "</font>\n",
    "</p>\n"
   ]
  },
  {
   "cell_type": "code",
   "execution_count": null,
   "id": "7dcb9e87",
   "metadata": {},
   "outputs": [],
   "source": [
    "df = pd.read_csv('data/train_data.csv')\n",
    "user_features = pd.read_csv('data/UserFeatures.csv')"
   ]
  },
  {
   "cell_type": "markdown",
   "id": "23daec54",
   "metadata": {},
   "source": [
    "<h2 align=right style=\"line-height:200%;font-family:vazir;color:#0099cc\">\n",
    "<font face=\"vazir\" color=\"#0099cc\">\n",
    "پیش‌پردازش و مهندسی ویژگی\n",
    "</font>\n",
    "</h2>\n",
    "\n",
    "<p dir=rtl style=\"direction: rtl; text-align: justify; line-height:200%; font-family:vazir; font-size:medium\">\n",
    "<font face=\"vazir\" size=3>\n",
    "    در این سوال شما می‌توانید از هر تکنیک پیش‌پردازش/مهندسی ویژگی که در فصل‌های گذشته آموختید، استفاده کنید.\n",
    "    <br>\n",
    "    تکنیک‌هایی که استفاده می‌کنید به شکل مستقیم مورد ارزیابی توسط سامانه داوری قرار <b>نمی‌گیرند.</b> بلکه همه آن‌ها در دقت مدل شما تاثیر خواهند گذاشت؛ بنابراین هر چه پیش‌پردازش/مهندسی ویژگی بهتری انجام دهید تا دقت مدل بهبود پیدا کند، امتیاز بیشتری از این سوال کسب خواهید کرد.\n",
    "</font>\n",
    "</p>"
   ]
  },
  {
   "cell_type": "code",
   "execution_count": null,
   "id": "30c656d8",
   "metadata": {},
   "outputs": [],
   "source": [
    "# TODO: preprocessing"
   ]
  },
  {
   "cell_type": "markdown",
   "id": "f99f2c94",
   "metadata": {},
   "source": [
    "<h2 align=right style=\"line-height:200%;font-family:vazir;color:#0099cc\">\n",
    "<font face=\"vazir\" color=\"#0099cc\">\n",
    "مدل‌سازی\n",
    "</font>\n",
    "</h2>\n",
    "\n",
    "<p dir=rtl style=\"direction: rtl; text-align: justify; line-height:200%; font-family:vazir; font-size:medium\">\n",
    "<font face=\"vazir\" size=3>\n",
    "    حال که داده را پاکسازی کرده و احتمالا ویژگی‌هایی را به آن افزوده یا از آن حذف کرده‌اید، وقت آن است که مدلی آموزش دهید که بتواند متغیر هدف این مسئله را پیش‌بینی کند.\n",
    "</font>\n",
    "</p>"
   ]
  },
  {
   "cell_type": "code",
   "execution_count": null,
   "id": "03d20a30",
   "metadata": {},
   "outputs": [],
   "source": [
    "# TODO: modeling"
   ]
  },
  {
   "cell_type": "markdown",
   "id": "33da5d2a",
   "metadata": {},
   "source": [
    "<h3 align=right style=\"line-height:200%;font-family:vazir;color:#0099cc\">\n",
    "<font face=\"vazir\" color=\"#0099cc\">\n",
    "معیار ارزیابی\n",
    "</font>\n",
    "</h3>\n",
    "\n",
    "<p dir=rtl style=\"direction: rtl; text-align: justify; line-height:200%; font-family:vazir; font-size:medium\">\n",
    "<font face=\"vazir\" size=3>\n",
    "    معیاری که برای ارزیابی عملکرد مدل انتخاب کرده‌ایم، <code>f1_score</code> نام دارد.\n",
    "    <br>\n",
    "    پیشنهاد می‌شود با توجه به این معیار، عملکرد مدل خود را بر روی مجموعه داده آموزش یا اعتبارسنجی ارزیابی کنید.\n",
    "</font>\n",
    "</p>"
   ]
  },
  {
   "cell_type": "code",
   "execution_count": null,
   "id": "cee1b883",
   "metadata": {},
   "outputs": [],
   "source": [
    "# evaluate model"
   ]
  }
 ],
 "metadata": {
  "kernelspec": {
   "display_name": "Python 3 (ipykernel)",
   "language": "python",
   "name": "python3"
  },
  "language_info": {
   "codemirror_mode": {
    "name": "ipython",
    "version": 3
   },
   "file_extension": ".py",
   "mimetype": "text/x-python",
   "name": "python",
   "nbconvert_exporter": "python",
   "pygments_lexer": "ipython3",
   "version": "3.8.6"
  }
 },
 "nbformat": 4,
 "nbformat_minor": 5
}
